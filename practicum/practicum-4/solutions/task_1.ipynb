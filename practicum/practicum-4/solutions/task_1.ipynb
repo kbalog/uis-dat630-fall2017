{
 "cells": [
  {
   "cell_type": "markdown",
   "metadata": {},
   "source": [
    "# Practicum 4: Exploring Data\n",
    "\n"
   ]
  },
  {
   "cell_type": "markdown",
   "metadata": {},
   "source": [
    "## Learning objectives:\n",
    "\n",
    "  - Attribute transformations (normalization, binarization, discretization)\n",
    "  - Proximity calculations\n",
    "  - Computing summary statistics (mean, median, range, variance, etc.)\n",
    "  - Visualization (histograms, scatter plots, box plots)\""
   ]
  },
  {
   "cell_type": "markdown",
   "metadata": {},
   "source": [
    "## References\n",
    "  - Python tutorials\n",
    "    * [Python course on codecademy](https://www.codecademy.com/tracks/python)\n",
    "    * [Official Python tutorial](https://docs.python.org/2/tutorial/index.html)\n",
    "    * [Tutorialspoint](http://www.tutorialspoint.com/python/index.htm)\n",
    "  - [Matplotlib plotting framework](http://matplotlib.org/api/pyplot_api.html)\n",
    "    * [How to make beautiful data visualizations in Python with matplotlib](http://www.randalolson.com/2014/06/28/how-to-make-beautiful-data-visualizations-in-python-with-matplotlib/)\n",
    "  - [Numpy](http://www.python-course.eu/numpy.php)\n",
    "    * [Numpy arrays](http://docs.scipy.org/doc/numpy/reference/generated/numpy.array.html#numpy.array)\n",
    "    * [Numpy statistics](http://docs.scipy.org/doc/numpy/reference/routines.statistics.html)"
   ]
  },
  {
   "cell_type": "markdown",
   "metadata": {},
   "source": [
    "## Task 1: Normalizing values between 0 and 1\n",
    "\n",
    "- Generate a random value that is the sum of rolling two six-sided dices.\n",
    "- Create a vector with n random values.\n",
    "- Plot the distribution of the values on a histogram.\n",
    "- Normalize the values between 0 and 1 using Min-Max normalization.\n",
    "- Plot the distribution of the normalized values on a histogram."
   ]
  },
  {
   "cell_type": "markdown",
   "metadata": {},
   "source": [
    "We import the matplotlib submodule **pyplot**, to plot 2d graphics; following a widely used convention, we use the `plt` alias.\n",
    "\n",
    "We also need the **random** module for generating random numbers."
   ]
  },
  {
   "cell_type": "code",
   "execution_count": 1,
   "metadata": {
    "collapsed": true
   },
   "outputs": [],
   "source": [
    "%matplotlib inline\n",
    "import matplotlib.pyplot as plt\n",
    "import random"
   ]
  },
  {
   "cell_type": "markdown",
   "metadata": {},
   "source": [
    "The following function generates a vector (list) of size `n` values that are the result of the sum of rolling two six-sided dices."
   ]
  },
  {
   "cell_type": "code",
   "execution_count": 2,
   "metadata": {
    "collapsed": true
   },
   "outputs": [],
   "source": [
    "def generate_values(n):\n",
    "    values = []\n",
    "    for i in range(n):\n",
    "        x = random.randint(1, 6) + random.randint(1, 6)\n",
    "        values.append(x)\n",
    "    return values"
   ]
  },
  {
   "cell_type": "markdown",
   "metadata": {},
   "source": [
    "This function performs the Min-Max normalization.\n",
    "\n",
    "For each value x, the normalized value is calculated using $x' = \\frac{x-min_x}{max_x-min_x}$."
   ]
  },
  {
   "cell_type": "code",
   "execution_count": 3,
   "metadata": {
    "collapsed": true
   },
   "outputs": [],
   "source": [
    "def norm_minmax(values):\n",
    "    min_x = min(values)\n",
    "    max_x = max(values)\n",
    "\n",
    "    values_norm = []\n",
    "    for x in values:\n",
    "        x_norm = (x - min_x) / (max_x - min_x)\n",
    "        values_norm.append(x_norm)\n",
    "    return values_norm"
   ]
  },
  {
   "cell_type": "markdown",
   "metadata": {},
   "source": [
    "Generate a vector with random values."
   ]
  },
  {
   "cell_type": "code",
   "execution_count": 4,
   "metadata": {
    "collapsed": true
   },
   "outputs": [],
   "source": [
    "values = generate_values(1000)"
   ]
  },
  {
   "cell_type": "markdown",
   "metadata": {},
   "source": [
    "Create a histogram from the original values."
   ]
  },
  {
   "cell_type": "code",
   "execution_count": 5,
   "metadata": {
    "collapsed": false
   },
   "outputs": [
    {
     "data": {
      "image/png": "[encoded data removed]",
      "text/plain": [
       "<matplotlib.figure.Figure at 0x10cf85208>"
      ]
     },
     "metadata": {},
     "output_type": "display_data"
    }
   ],
   "source": [
    "plt.clf()  # this is needed to clear the current figure (prevents multiple labels)\n",
    "plt.hist(values, bins=11, normed=1, facecolor='green')\n",
    "plt.show()"
   ]
  },
  {
   "cell_type": "markdown",
   "metadata": {},
   "source": [
    "Perform normalization."
   ]
  },
  {
   "cell_type": "code",
   "execution_count": 6,
   "metadata": {
    "collapsed": false
   },
   "outputs": [
    {
     "name": "stdout",
     "output_type": "stream",
     "text": [
      "OK\n"
     ]
    }
   ],
   "source": [
    "values2 = norm_minmax(values)\n",
    "print(\"OK\")"
   ]
  },
  {
   "cell_type": "markdown",
   "metadata": {},
   "source": [
    "Create a histogram from the normalized values."
   ]
  },
  {
   "cell_type": "code",
   "execution_count": 7,
   "metadata": {
    "collapsed": false
   },
   "outputs": [
    {
     "data": {
      "image/png": "[encoded data removed]",
      "text/plain": [
       "<matplotlib.figure.Figure at 0x10d04bc50>"
      ]
     },
     "metadata": {},
     "output_type": "display_data"
    },
    {
     "name": "stdout",
     "output_type": "stream",
     "text": [
      "OK\n"
     ]
    }
   ],
   "source": [
    "plt.clf()\n",
    "plt.hist(values2, bins=11, normed=1, facecolor='blue')\n",
    "plt.show()\n",
    "\n",
    "print(\"OK\")\n",
    "# exit()"
   ]
  }
 ],
 "metadata": {
  "kernelspec": {
   "display_name": "Python 3",
   "language": "python",
   "name": "python3"
  },
  "language_info": {
   "codemirror_mode": {
    "name": "ipython",
    "version": 3
   },
   "file_extension": ".py",
   "mimetype": "text/x-python",
   "name": "python",
   "nbconvert_exporter": "python",
   "pygments_lexer": "ipython3",
   "version": "3.5.3"
  }
 },
 "nbformat": 4,
 "nbformat_minor": 0
}
