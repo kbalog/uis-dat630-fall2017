{
 "cells": [
  {
   "cell_type": "markdown",
   "metadata": {},
   "source": [
    "# Practicum 4: Exploring Data\n",
    "\n"
   ]
  },
  {
   "cell_type": "markdown",
   "metadata": {},
   "source": [
    "## Task 2: Computing the similarity of binary vectors\n",
    "\n",
    "- Create a binary representation of the records that have nominal and ordinal attributes.\n",
    "- Implement the functions that compute the Simple Matching Coefficient and Jaccard Coefficient for a given pair of records.\n",
    "- Find the most similar pair of records according to each similarity measure."
   ]
  },
  {
   "cell_type": "markdown",
   "metadata": {},
   "source": [
    "We will use the **csv** module for reading in data from a file."
   ]
  },
  {
   "cell_type": "code",
   "execution_count": 1,
   "metadata": {
    "collapsed": true
   },
   "outputs": [],
   "source": [
    "import csv"
   ]
  },
  {
   "cell_type": "markdown",
   "metadata": {},
   "source": [
    "### Input data"
   ]
  },
  {
   "cell_type": "markdown",
   "metadata": {},
   "source": [
    "**Gender** is a nominal attribute and has the following possible values:"
   ]
  },
  {
   "cell_type": "code",
   "execution_count": 2,
   "metadata": {
    "collapsed": true
   },
   "outputs": [],
   "source": [
    "gender = [\"female\", \"male\"]"
   ]
  },
  {
   "cell_type": "markdown",
   "metadata": {},
   "source": [
    "**Age** is a nominal attribute and has the following possible values:"
   ]
  },
  {
   "cell_type": "code",
   "execution_count": 3,
   "metadata": {
    "collapsed": true
   },
   "outputs": [],
   "source": [
    "age = [\"0-5\", \"6-17\", \"18-34\", \"35-49\", \"50-64\", \"65+\"]"
   ]
  },
  {
   "cell_type": "markdown",
   "metadata": {},
   "source": [
    "**Income** is a nominal attribute and has the following possible values:"
   ]
  },
  {
   "cell_type": "code",
   "execution_count": 5,
   "metadata": {
    "collapsed": true
   },
   "outputs": [],
   "source": [
    "income = [\"low\", \"medium\", \"high\"]"
   ]
  },
  {
   "cell_type": "markdown",
   "metadata": {},
   "source": [
    "The data set is stored in a tab-separated text file (`task2_data.txt`).\n",
    "\n",
    "We read it and store it as a list of records, where each record is represented using a dict.\n",
    "\n",
    "The first column in the file is an **id** field, which is a unique identifier.  It is a nominal attribute, but it should not be considered when computing the similarities between records.\n",
    "\n",
    "The first line of the file is a header with the field names, it should be ignored."
   ]
  },
  {
   "cell_type": "code",
   "execution_count": 6,
   "metadata": {
    "collapsed": true
   },
   "outputs": [],
   "source": [
    "def load_data(filename):\n",
    "    records = []\n",
    "    with open(filename, 'rt') as csvfile:\n",
    "        csvreader = csv.reader(csvfile, delimiter='\\t')\n",
    "        next(csvreader)  # skip the header line\n",
    "        for row in csvreader:\n",
    "            if len(row) == 4:  # if we have 4 fields in that line\n",
    "                records.append({\n",
    "                    \"id\": row[0],\n",
    "                    \"gender\": row[1],\n",
    "                    \"age\": row[2],\n",
    "                    \"income\": row[3]\n",
    "                })\n",
    "    return records"
   ]
  },
  {
   "cell_type": "markdown",
   "metadata": {},
   "source": [
    "### Binarization"
   ]
  },
  {
   "cell_type": "markdown",
   "metadata": {},
   "source": [
    "This function takes a record as input and returns a binarized record.\n",
    "\n",
    "The binarized record is represented as a vector (python list)."
   ]
  },
  {
   "cell_type": "code",
   "execution_count": 8,
   "metadata": {
    "collapsed": false
   },
   "outputs": [],
   "source": [
    "def binarize(record):\n",
    "    record_bin = []\n",
    "    # Gender: either 0 or 1.\n",
    "    if record['gender'] == \"female\":\n",
    "        record_bin += [1, 0]\n",
    "    else:\n",
    "        record_bin += [0, 1]\n",
    "        \n",
    "    # Age: 6 bits.\n",
    "    age_vect = [0, 0, 0, 0, 0, 0]\n",
    "    for idx, val in enumerate(age):\n",
    "        if record['age'] == val:\n",
    "            age_vect[idx] = 1\n",
    "    record_bin = record_bin + age_vect\n",
    "    \n",
    "    # Income: 3 bits.\n",
    "    income_vect = [0, 0, 0]\n",
    "    for idx, val in enumerate(income):\n",
    "        if record['income'] == val:\n",
    "            income_vect[idx] = 1\n",
    "    record_bin = record_bin + income_vect\n",
    "    \n",
    "    return record_bin"
   ]
  },
  {
   "cell_type": "markdown",
   "metadata": {},
   "source": [
    "### Computing similarity"
   ]
  },
  {
   "cell_type": "markdown",
   "metadata": {},
   "source": [
    "Let $x$ and $y$ be two objects (records) that consist of binary attributes.\n",
    "\n",
    "We define the following 4 quantities:\n",
    "  - $f_{01}$ = the number of attributes where $x$ was 0 and $y$ was 1\n",
    "  - $f_{10}$ = the number of attributes where $x$ was 1 and $y$ was 0\n",
    "  - $f_{00}$ = the number of attributes where $x$ was 0 and $y$ was 0\n",
    "  - $f_{11}$ = the number of attributes where $x$ was 1 and $y$ was 1"
   ]
  },
  {
   "cell_type": "markdown",
   "metadata": {},
   "source": [
    "#### Simple Matching Coefficient"
   ]
  },
  {
   "cell_type": "markdown",
   "metadata": {},
   "source": [
    "Compute $\\frac{f_{11} + f_{00}}{f_{01} + f_{10} + f_{11} + f_{00}}$.\n",
    "In simple terms, it is the number of matching attributes divided by the number of all attributes."
   ]
  },
  {
   "cell_type": "code",
   "execution_count": 10,
   "metadata": {
    "collapsed": true
   },
   "outputs": [],
   "source": [
    "def sim_smc(x, y):\n",
    "    matches = 0\n",
    "    for idx, val in enumerate(x):\n",
    "        if x[idx] == y[idx]:\n",
    "            matches += 1\n",
    "    return matches / len(x)"
   ]
  },
  {
   "cell_type": "markdown",
   "metadata": {},
   "source": [
    "#### Jaccard Coefficient"
   ]
  },
  {
   "cell_type": "markdown",
   "metadata": {},
   "source": [
    "Compute $\\frac{f_{11}}{f_{01} + f_{10} + f_{11}}$. In simple terms, it is the number of matching attributes divided by the number of all attributes, **excluding** cases where both attributes are 0."
   ]
  },
  {
   "cell_type": "code",
   "execution_count": 11,
   "metadata": {
    "collapsed": true
   },
   "outputs": [],
   "source": [
    "def sim_jaccard(x, y):\n",
    "    matches = 0\n",
    "    nonzeros = 0\n",
    "    for idx, val in enumerate(x):\n",
    "        if x[idx] + y[idx] > 0:\n",
    "            nonzeros += 1\n",
    "            if x[idx] == y[idx]:\n",
    "                matches += 1\n",
    "    return matches / nonzeros"
   ]
  },
  {
   "cell_type": "markdown",
   "metadata": {},
   "source": [
    "### Main"
   ]
  },
  {
   "cell_type": "markdown",
   "metadata": {},
   "source": [
    "Read input data into `records`."
   ]
  },
  {
   "cell_type": "code",
   "execution_count": 12,
   "metadata": {
    "collapsed": true
   },
   "outputs": [],
   "source": [
    "records = load_data(\"data/task2_data.txt\")"
   ]
  },
  {
   "cell_type": "markdown",
   "metadata": {},
   "source": [
    "Binarize all records."
   ]
  },
  {
   "cell_type": "code",
   "execution_count": 13,
   "metadata": {
    "collapsed": false
   },
   "outputs": [
    {
     "name": "stdout",
     "output_type": "stream",
     "text": [
      "{'gender': 'male', 'id': 'oldbob', 'age': '65+', 'income': 'low'}  =>  [0, 1, 0, 0, 0, 0, 0, 1, 1, 0, 0]\n",
      "{'gender': 'female', 'id': 'ladymary', 'age': '50-64', 'income': 'high'}  =>  [1, 0, 0, 0, 0, 0, 1, 0, 0, 0, 1]\n",
      "{'gender': 'male', 'id': 'princejohn', 'age': '18-34', 'income': 'high'}  =>  [0, 1, 0, 0, 1, 0, 0, 0, 0, 0, 1]\n",
      "{'gender': 'male', 'id': 'poorvince', 'age': '18-34', 'income': 'low'}  =>  [0, 1, 0, 0, 1, 0, 0, 0, 1, 0, 0]\n",
      "{'gender': 'female', 'id': 'ritchbianca', 'age': '18-34', 'income': 'high'}  =>  [1, 0, 0, 0, 1, 0, 0, 0, 0, 0, 1]\n",
      "{'gender': 'female', 'id': 'kidjoanna', 'age': '0-5', 'income': 'low'}  =>  [1, 0, 1, 0, 0, 0, 0, 0, 1, 0, 0]\n",
      "{'gender': 'male', 'id': 'senorlars', 'age': '50-64', 'income': 'medium'}  =>  [0, 1, 0, 0, 0, 0, 1, 0, 0, 1, 0]\n"
     ]
    }
   ],
   "source": [
    "records_bin = []\n",
    "for record in records:\n",
    "    bin_vect = binarize(record)\n",
    "    records_bin.append(bin_vect)\n",
    "    print(record, \" => \", bin_vect)"
   ]
  },
  {
   "cell_type": "markdown",
   "metadata": {},
   "source": [
    "Find the two most similar records using SMC and Jaccard."
   ]
  },
  {
   "cell_type": "code",
   "execution_count": 14,
   "metadata": {
    "collapsed": true
   },
   "outputs": [],
   "source": [
    "max_smc = 0\n",
    "max_smc_names = \"\"\n",
    "max_jacc = 0\n",
    "max_jacc_names = \"\"\n",
    "\n",
    "for i1 in range(len(records)):\n",
    "    for i2 in range(i1+1, len(records)):\n",
    "        s_smc = sim_smc(records_bin[i1], records_bin[i2])\n",
    "        s_jacc = sim_jaccard(records_bin[i1], records_bin[i2])\n",
    "        # print records[i1]['id'], records[i2]['id'], s_smc, s_jacc\n",
    "        if s_smc > max_smc:\n",
    "            max_smc = s_smc\n",
    "            max_smc_names = records[i1]['id'] + \" - \" + records[i2]['id']\n",
    "        if s_jacc > max_jacc:\n",
    "            max_jacc = s_jacc\n",
    "            max_jacc_names = records[i1]['id'] + \" - \" + records[i2]['id']"
   ]
  },
  {
   "cell_type": "code",
   "execution_count": 15,
   "metadata": {
    "collapsed": false
   },
   "outputs": [
    {
     "name": "stdout",
     "output_type": "stream",
     "text": [
      "Most similar pair using SMC: \n",
      "\t oldbob - poorvince\n",
      "\tsimilarity:  0.8181818181818182\n",
      "Most similar pair using Jaccard: \n",
      "\t oldbob - poorvince\n",
      "\tsimilarity:  0.5\n"
     ]
    }
   ],
   "source": [
    "print(\"Most similar pair using SMC: \")\n",
    "print(\"\\t\", max_smc_names)\n",
    "print(\"\\tsimilarity: \", max_smc)\n",
    "print(\"Most similar pair using Jaccard: \")\n",
    "print(\"\\t\", max_jacc_names)\n",
    "print(\"\\tsimilarity: \", max_jacc)"
   ]
  }
 ],
 "metadata": {
  "kernelspec": {
   "display_name": "Python 3",
   "language": "python",
   "name": "python3"
  },
  "language_info": {
   "codemirror_mode": {
    "name": "ipython",
    "version": 3
   },
   "file_extension": ".py",
   "mimetype": "text/x-python",
   "name": "python",
   "nbconvert_exporter": "python",
   "pygments_lexer": "ipython3",
   "version": "3.5.3"
  }
 },
 "nbformat": 4,
 "nbformat_minor": 0
}
