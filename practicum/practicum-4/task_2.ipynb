{
 "cells": [
  {
   "cell_type": "markdown",
   "metadata": {},
   "source": [
    "# Practicum 4: Exploring Data\n",
    "\n"
   ]
  },
  {
   "cell_type": "markdown",
   "metadata": {},
   "source": [
    "## Task 2: Computing the similarity of binary vectors\n",
    "\n",
    "- Create a binary representation of the records that have nominal and ordinal attributes.\n",
    "- Implement the functions that compute the Simple Matching Coefficient and Jaccard Coefficient for a given pair of records.\n",
    "- Find the most similar pair of records according to each similarity measure."
   ]
  },
  {
   "cell_type": "markdown",
   "metadata": {},
   "source": [
    "We will use the **csv** module for reading in data from a file."
   ]
  },
  {
   "cell_type": "code",
   "execution_count": null,
   "metadata": {
    "collapsed": true
   },
   "outputs": [],
   "source": [
    "import csv"
   ]
  },
  {
   "cell_type": "markdown",
   "metadata": {},
   "source": [
    "### Input data"
   ]
  },
  {
   "cell_type": "markdown",
   "metadata": {},
   "source": [
    "**Gender** is a nominal attribute and has the following possible values:"
   ]
  },
  {
   "cell_type": "code",
   "execution_count": null,
   "metadata": {
    "collapsed": true
   },
   "outputs": [],
   "source": [
    "gender = [\"female\", \"male\"]"
   ]
  },
  {
   "cell_type": "markdown",
   "metadata": {},
   "source": [
    "**Age** is a nominal attribute and has the following possible values:"
   ]
  },
  {
   "cell_type": "code",
   "execution_count": null,
   "metadata": {
    "collapsed": true
   },
   "outputs": [],
   "source": [
    "age = [\"0-5\", \"6-17\", \"18-34\", \"35-49\", \"50-64\", \"65+\"]"
   ]
  },
  {
   "cell_type": "markdown",
   "metadata": {},
   "source": [
    "**Income** is a nominal attribute and has the following possible values:"
   ]
  },
  {
   "cell_type": "code",
   "execution_count": null,
   "metadata": {
    "collapsed": true
   },
   "outputs": [],
   "source": [
    "income = [\"low\", \"medium\", \"high\"]"
   ]
  },
  {
   "cell_type": "markdown",
   "metadata": {},
   "source": [
    "The data set is stored in a tab-separated text file (`task2_data.txt`).\n",
    "\n",
    "We read it and store it as a list of records, where each record is represented using a dict.\n",
    "\n",
    "The first column in the file is an **id** field, which is a unique identifier.  It is a nominal attribute, but it should not be considered when computing the similarities between records.\n",
    "\n",
    "The first line of the file is a header with the field names, it should be ignored."
   ]
  },
  {
   "cell_type": "code",
   "execution_count": null,
   "metadata": {
    "collapsed": true
   },
   "outputs": [],
   "source": [
    "def load_data(filename):\n",
    "    records = []\n",
    "    with open(filename, 'rt') as csvfile:\n",
    "        csvreader = csv.reader(csvfile, delimiter='\\t')\n",
    "        next(csvreader)  # skip the header line\n",
    "        for row in csvreader:\n",
    "            if len(row) == 4:  # if we have 4 fields in that line\n",
    "                records.append({\n",
    "                    \"id\": row[0],\n",
    "                    \"gender\": row[1],\n",
    "                    \"age\": row[2],\n",
    "                    \"income\": row[3]\n",
    "                })\n",
    "    return records"
   ]
  },
  {
   "cell_type": "markdown",
   "metadata": {},
   "source": [
    "### Binarization"
   ]
  },
  {
   "cell_type": "markdown",
   "metadata": {},
   "source": [
    "This function takes a record as input and returns a binarized record.\n",
    "\n",
    "The binarized record is represented as a vector (python list)."
   ]
  },
  {
   "cell_type": "code",
   "execution_count": null,
   "metadata": {
    "collapsed": false
   },
   "outputs": [],
   "source": [
    "def binarize(record):\n",
    "    record_bin = []\n",
    "    # TODO\n",
    "    return record_bin"
   ]
  },
  {
   "cell_type": "markdown",
   "metadata": {},
   "source": [
    "### Computing similarity"
   ]
  },
  {
   "cell_type": "markdown",
   "metadata": {},
   "source": [
    "Let $x$ and $y$ be two objects (records) that consist of binary attributes.\n",
    "\n",
    "We define the following 4 quantities:\n",
    "  - $f_{01}$ = the number of attributes where $x$ was 0 and $y$ was 1\n",
    "  - $f_{10}$ = the number of attributes where $x$ was 1 and $y$ was 0\n",
    "  - $f_{00}$ = the number of attributes where $x$ was 0 and $y$ was 0\n",
    "  - $f_{11}$ = the number of attributes where $x$ was 1 and $y$ was 1"
   ]
  },
  {
   "cell_type": "markdown",
   "metadata": {},
   "source": [
    "#### Simple Matching Coefficient"
   ]
  },
  {
   "cell_type": "markdown",
   "metadata": {},
   "source": [
    "Compute $\\frac{f_{11} + f_{00}}{f_{01} + f_{10} + f_{11} + f_{00}}$.\n",
    "In simple terms, it is the number of matching attributes divided by the number of all attributes."
   ]
  },
  {
   "cell_type": "code",
   "execution_count": null,
   "metadata": {
    "collapsed": true
   },
   "outputs": [],
   "source": [
    "def sim_smc(x, y):\n",
    "    ret = 0\n",
    "    # TODO\n",
    "    return ret"
   ]
  },
  {
   "cell_type": "markdown",
   "metadata": {},
   "source": [
    "#### Jaccard Coefficient"
   ]
  },
  {
   "cell_type": "markdown",
   "metadata": {},
   "source": [
    "Compute $\\frac{f_{11}}{f_{01} + f_{10} + f_{11}}$. In simple terms, it is the number of matching attributes divided by the number of all attributes, **excluding** cases where both attributes are 0."
   ]
  },
  {
   "cell_type": "code",
   "execution_count": null,
   "metadata": {
    "collapsed": true
   },
   "outputs": [],
   "source": [
    "def sim_jaccard(x, y):\n",
    "    ret = 0\n",
    "    # TODO\n",
    "    return ret"
   ]
  },
  {
   "cell_type": "markdown",
   "metadata": {},
   "source": [
    "### Main"
   ]
  },
  {
   "cell_type": "markdown",
   "metadata": {},
   "source": [
    "Read input data into `records`."
   ]
  },
  {
   "cell_type": "code",
   "execution_count": null,
   "metadata": {
    "collapsed": true
   },
   "outputs": [],
   "source": [
    "records = load_data(\"data/task2_data.txt\")"
   ]
  },
  {
   "cell_type": "markdown",
   "metadata": {},
   "source": [
    "Binarize all records."
   ]
  },
  {
   "cell_type": "code",
   "execution_count": null,
   "metadata": {
    "collapsed": false
   },
   "outputs": [],
   "source": [
    "records_bin = []\n",
    "for record in records:\n",
    "    bin_vect = binarize(record)\n",
    "    records_bin.append(bin_vect)\n",
    "    print(record, \" => \", bin_vect)"
   ]
  },
  {
   "cell_type": "markdown",
   "metadata": {},
   "source": [
    "Find the two most similar records using SMC and Jaccard."
   ]
  },
  {
   "cell_type": "code",
   "execution_count": null,
   "metadata": {
    "collapsed": true
   },
   "outputs": [],
   "source": [
    "max_smc = 0\n",
    "max_smc_names = \"\"\n",
    "max_jacc = 0\n",
    "max_jacc_names = \"\"\n",
    "\n",
    "# TODO"
   ]
  },
  {
   "cell_type": "code",
   "execution_count": null,
   "metadata": {
    "collapsed": false
   },
   "outputs": [],
   "source": [
    "print(\"Most similar pair using SMC: \")\n",
    "print(\"\\t\", max_smc_names)\n",
    "print(\"\\tsimilarity: \", max_smc)\n",
    "print(\"Most similar pair using Jaccard: \")\n",
    "print(\"\\t\", max_jacc_names)\n",
    "print(\"\\tsimilarity: \", max_jacc)"
   ]
  }
 ],
 "metadata": {
  "kernelspec": {
   "display_name": "Python 3",
   "language": "python",
   "name": "python3"
  },
  "language_info": {
   "codemirror_mode": {
    "name": "ipython",
    "version": 3
   },
   "file_extension": ".py",
   "mimetype": "text/x-python",
   "name": "python",
   "nbconvert_exporter": "python",
   "pygments_lexer": "ipython3",
   "version": "3.5.3"
  }
 },
 "nbformat": 4,
 "nbformat_minor": 0
}
