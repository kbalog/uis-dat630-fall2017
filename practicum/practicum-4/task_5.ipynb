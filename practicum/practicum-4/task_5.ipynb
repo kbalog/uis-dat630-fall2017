{
 "cells": [
  {
   "cell_type": "markdown",
   "metadata": {},
   "source": [
    "# Practicum 4: Exploring Data\n",
    "\n"
   ]
  },
  {
   "cell_type": "markdown",
   "metadata": {},
   "source": [
    "## Task 5:  Computing summary statistics on the Iris dataset\n",
    "\n",
    "  - Load the Iris dataset (`data/iris.data`).\n",
    "  - Complete the tables.\n",
    "\n",
    "### Hints:\n",
    "  - You can exploit the fact that the input is ordered by class: the first 50 records are Iris Setosa, records 51-100 are Iris Versicolour, and records 101-150 are Iris Virginica.\n",
    "  - Get a slice of the list, e.g., all Iris Versicolour records: `iris_data[50:100]`\n",
    "  - Get a given attribute as a list, e.g., sepal width: `attr = [x['sepal_width'] for x in iris_data]`"
   ]
  },
  {
   "cell_type": "markdown",
   "metadata": {},
   "source": [
    "We will use the **csv** module for reading in data from a file.\n",
    "\n",
    "We also need the the **math** module for computing `pow`."
   ]
  },
  {
   "cell_type": "code",
   "execution_count": null,
   "metadata": {
    "collapsed": true
   },
   "outputs": [],
   "source": [
    "import csv\n",
    "import math"
   ]
  },
  {
   "cell_type": "markdown",
   "metadata": {},
   "source": [
    "The data set is stored in a comma-separated text file.\n",
    "\n",
    "We read it and store it as a list of records, where each record is represented using a dict."
   ]
  },
  {
   "cell_type": "code",
   "execution_count": null,
   "metadata": {
    "collapsed": true
   },
   "outputs": [],
   "source": [
    "def load_iris_data(filename):\n",
    "    records = []\n",
    "    with open(filename, 'rt') as csvfile:\n",
    "        csvreader = csv.reader(csvfile, delimiter=',')\n",
    "        for row in csvreader:\n",
    "            if len(row) == 5:  # if we have 4 fields in that line\n",
    "                records.append({\n",
    "                    \"sepal_length\": float(row[0]),\n",
    "                    \"sepal_width\": float(row[1]),\n",
    "                    \"petal_length\": float(row[2]),\n",
    "                    \"petal_width\": float(row[3]),\n",
    "                    \"class\": row[4]\n",
    "                })\n",
    "    return records\n",
    "\n",
    "iris_data = load_iris_data(\"data/iris.data\")"
   ]
  },
  {
   "cell_type": "markdown",
   "metadata": {},
   "source": [
    "### Complete the tables"
   ]
  },
  {
   "cell_type": "markdown",
   "metadata": {},
   "source": [
    "| Class | Attribute | Summary statistics | Result | \n",
    "| --- | --- | --- | --- |\n",
    "| Iris Setosa | sepal length | mean |   |\n",
    "| Iris Virginica | petal length | median |  |\n",
    "| Iris Versicolor | sepal width | range |  |"
   ]
  },
  {
   "cell_type": "markdown",
   "metadata": {},
   "source": [
    "  * What is the mean `sepal length` for Iris Setosa?"
   ]
  },
  {
   "cell_type": "code",
   "execution_count": null,
   "metadata": {
    "collapsed": false
   },
   "outputs": [],
   "source": [
    "def mean(values):\n",
    "    # TODO\n",
    "\n",
    "sepal_lengths_setosa = [x[\"sepal_length\"] for x in iris_data][0:50]\n",
    "\n",
    "mean(sepal_lengths_setosa)"
   ]
  },
  {
   "cell_type": "markdown",
   "metadata": {},
   "source": [
    "  * What is the median `petal length` for Iris Virginica?"
   ]
  },
  {
   "cell_type": "code",
   "execution_count": null,
   "metadata": {
    "collapsed": false
   },
   "outputs": [],
   "source": [
    "def median(values):\n",
    "    # TODO\n",
    "\n",
    "petal_lengths_virginica = # TODO\n",
    "\n",
    "median(petal_lengths_virginica)"
   ]
  },
  {
   "cell_type": "markdown",
   "metadata": {},
   "source": [
    "  * What is the range of `sepal width` for Iris Versicolor?"
   ]
  },
  {
   "cell_type": "code",
   "execution_count": null,
   "metadata": {
    "collapsed": false
   },
   "outputs": [],
   "source": [
    "# TODO"
   ]
  },
  {
   "cell_type": "markdown",
   "metadata": {},
   "source": [
    "  * Which class (Setosa/Versicolour/Virginica) shows the highest variance in `petal width`?"
   ]
  },
  {
   "cell_type": "markdown",
   "metadata": {},
   "source": [
    "| Class | Variance | \n",
    "| --- | --- |\n",
    "| Iris Setosa |  |\n",
    "| Iris Versicolor |  |\n",
    "| Iris Virginica |  |"
   ]
  },
  {
   "cell_type": "code",
   "execution_count": null,
   "metadata": {
    "collapsed": true
   },
   "outputs": [],
   "source": [
    "def variance(values):\n",
    "    # TODO\n",
    "\n",
    "petal_widths = [x[\"petal_width\"] for x in iris_data]"
   ]
  },
  {
   "cell_type": "code",
   "execution_count": null,
   "metadata": {
    "collapsed": false
   },
   "outputs": [],
   "source": [
    "# TODO"
   ]
  },
  {
   "cell_type": "code",
   "execution_count": null,
   "metadata": {
    "collapsed": false
   },
   "outputs": [],
   "source": [
    "# TODO"
   ]
  },
  {
   "cell_type": "code",
   "execution_count": null,
   "metadata": {
    "collapsed": false
   },
   "outputs": [],
   "source": [
    "# TODO"
   ]
  },
  {
   "cell_type": "markdown",
   "metadata": {},
   "source": [
    "  * Compute Absolute Average Deviation (AAD), Median Absolute Deviation (MAD), and Interquartile Range (IQR) for `petal length` (for all classes together)."
   ]
  },
  {
   "cell_type": "code",
   "execution_count": null,
   "metadata": {
    "collapsed": true
   },
   "outputs": [],
   "source": [
    "# TODO"
   ]
  }
 ],
 "metadata": {
  "kernelspec": {
   "display_name": "Python 3",
   "language": "python",
   "name": "python3"
  },
  "language_info": {
   "codemirror_mode": {
    "name": "ipython",
    "version": 3
   },
   "file_extension": ".py",
   "mimetype": "text/x-python",
   "name": "python",
   "nbconvert_exporter": "python",
   "pygments_lexer": "ipython3",
   "version": "3.5.3"
  }
 },
 "nbformat": 4,
 "nbformat_minor": 0
}
