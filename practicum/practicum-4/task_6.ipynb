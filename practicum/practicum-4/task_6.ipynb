{
 "cells": [
  {
   "cell_type": "markdown",
   "metadata": {},
   "source": [
    "# Practicum 4: Exploring Data\n",
    "\n"
   ]
  },
  {
   "cell_type": "markdown",
   "metadata": {},
   "source": [
    "## Task 6: Computing summary statistics using numpy\n",
    "\n",
    "  - Load the Iris dataset (`data/iris.data`) into a 4x150 numpy array.\n",
    "  - Complete the tables using numpy.\n",
    "\n",
    "Hint: you can exploit the fact that the input is ordered by class: the first 50 records are Iris Setosa,\n",
    "records 51-100 are Iris Versicolour, and records 101-150 are Iris Virginica."
   ]
  },
  {
   "cell_type": "markdown",
   "metadata": {},
   "source": [
    "We will use the **csv** module for reading in data from a file."
   ]
  },
  {
   "cell_type": "code",
   "execution_count": null,
   "metadata": {
    "collapsed": true
   },
   "outputs": [],
   "source": [
    "import csv"
   ]
  },
  {
   "cell_type": "markdown",
   "metadata": {},
   "source": [
    "It is common to import **numpy** under the briefer name **np**."
   ]
  },
  {
   "cell_type": "code",
   "execution_count": null,
   "metadata": {
    "collapsed": true
   },
   "outputs": [],
   "source": [
    "import numpy as np"
   ]
  },
  {
   "cell_type": "markdown",
   "metadata": {},
   "source": [
    "The data set is stored in a comma-separated text file.\n",
    "\n",
    "We read it and store it as a list of records, where each record is represented using a dict."
   ]
  },
  {
   "cell_type": "code",
   "execution_count": null,
   "metadata": {
    "collapsed": false
   },
   "outputs": [],
   "source": [
    "def load_iris_data(filename):\n",
    "    records = []\n",
    "    with open(filename, 'rt') as csvfile:\n",
    "        csvreader = csv.reader(csvfile, delimiter=',')\n",
    "        for row in csvreader:\n",
    "            if len(row) == 5:  # if we have 4 fields in that line\n",
    "                records.append({\n",
    "                    \"sepal_length\": float(row[0]),\n",
    "                    \"sepal_width\": float(row[1]),\n",
    "                    \"petal_length\": float(row[2]),\n",
    "                    \"petal_width\": float(row[3]),\n",
    "                    \"class\": row[4]\n",
    "                })\n",
    "    return records\n",
    "\n",
    "iris_data = load_iris_data(\"data/iris.data\")"
   ]
  },
  {
   "cell_type": "markdown",
   "metadata": {},
   "source": [
    "Load data into a numpy array"
   ]
  },
  {
   "cell_type": "code",
   "execution_count": null,
   "metadata": {
    "collapsed": true
   },
   "outputs": [],
   "source": [
    "arr = np.array([\n",
    "    [x['sepal_length'] for x in iris_data],\n",
    "    [x['sepal_width'] for x in iris_data],\n",
    "    [x['petal_length'] for x in iris_data],\n",
    "    [x['petal_width'] for x in iris_data],\n",
    "], float)"
   ]
  },
  {
   "cell_type": "markdown",
   "metadata": {},
   "source": [
    "### Complete the tables using numpy"
   ]
  },
  {
   "cell_type": "markdown",
   "metadata": {},
   "source": [
    "| Class | Attribute | Summary statistics | Result | \n",
    "| --- | --- | --- | --- |\n",
    "| Iris Setosa | sepal length | mean |  |\n",
    "| Iris Virginica | petal length | median |  |\n",
    "| Iris Versicolor | sepal width | range |  |\n",
    "| All together | sepal length | 70% percentile |  |\n",
    "| All together | sepal width | 70% percentile |  |"
   ]
  },
  {
   "cell_type": "markdown",
   "metadata": {},
   "source": [
    "  * What is the mean `sepal length` for Iris Setosa?"
   ]
  },
  {
   "cell_type": "code",
   "execution_count": null,
   "metadata": {
    "collapsed": false
   },
   "outputs": [],
   "source": [
    "# TODO"
   ]
  },
  {
   "cell_type": "markdown",
   "metadata": {},
   "source": [
    "  * What is the median `petal length` for Iris Virginica?"
   ]
  },
  {
   "cell_type": "code",
   "execution_count": null,
   "metadata": {
    "collapsed": false
   },
   "outputs": [],
   "source": [
    "# TODO"
   ]
  },
  {
   "cell_type": "markdown",
   "metadata": {},
   "source": [
    "  * What is the range of `sepal width` for Iris Versicolor?"
   ]
  },
  {
   "cell_type": "code",
   "execution_count": null,
   "metadata": {
    "collapsed": false
   },
   "outputs": [],
   "source": [
    "# TODO"
   ]
  },
  {
   "cell_type": "markdown",
   "metadata": {},
   "source": [
    "  * What is the 70% percentile for `sepal length` and `sepal width` (for all classes together)?"
   ]
  },
  {
   "cell_type": "code",
   "execution_count": null,
   "metadata": {
    "collapsed": false
   },
   "outputs": [],
   "source": [
    "# TODO"
   ]
  },
  {
   "cell_type": "code",
   "execution_count": null,
   "metadata": {
    "collapsed": false
   },
   "outputs": [],
   "source": [
    "# TODO"
   ]
  },
  {
   "cell_type": "markdown",
   "metadata": {},
   "source": [
    "  * Which class (Setosa/Versicolour/Virginica) shows the highest variance in `petal width`?"
   ]
  },
  {
   "cell_type": "markdown",
   "metadata": {},
   "source": [
    "| Class | Variance | \n",
    "| --- | --- |\n",
    "| Iris Setosa |  |\n",
    "| Iris Versicolor |  |\n",
    "| Iris Virginica |  |"
   ]
  },
  {
   "cell_type": "code",
   "execution_count": null,
   "metadata": {
    "collapsed": false
   },
   "outputs": [],
   "source": [
    "# TODO"
   ]
  },
  {
   "cell_type": "code",
   "execution_count": null,
   "metadata": {
    "collapsed": false
   },
   "outputs": [],
   "source": [
    "# TODO"
   ]
  },
  {
   "cell_type": "code",
   "execution_count": null,
   "metadata": {
    "collapsed": false
   },
   "outputs": [],
   "source": [
    "# TODO"
   ]
  }
 ],
 "metadata": {
  "kernelspec": {
   "display_name": "Python 3",
   "language": "python",
   "name": "python3"
  },
  "language_info": {
   "codemirror_mode": {
    "name": "ipython",
    "version": 3
   },
   "file_extension": ".py",
   "mimetype": "text/x-python",
   "name": "python",
   "nbconvert_exporter": "python",
   "pygments_lexer": "ipython3",
   "version": "3.5.3"
  }
 },
 "nbformat": 4,
 "nbformat_minor": 0
}
