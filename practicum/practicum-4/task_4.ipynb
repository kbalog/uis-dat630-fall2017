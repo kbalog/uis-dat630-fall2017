{
 "cells": [
  {
   "cell_type": "markdown",
   "metadata": {},
   "source": [
    "# Practicum 4: Exploring Data\n",
    "\n"
   ]
  },
  {
   "cell_type": "markdown",
   "metadata": {},
   "source": [
    "## Task 4: Finding k-nearest neighbors using Eucledian distance\n",
    "\n",
    "- Generate n=100 random points in a two dimensional space. Let both the x and y attributes be int values between 1 and 100.\n",
    "- Display these points on a scatter plot.\n",
    "- Select one of these points randomly (i.e., pick a random index).\n",
    "- Find the k closest neighbors of the selected record (i.e., the k records that are most similar to it) using the Eucledian distance. The value of k is given (i.e., hard-coded).\n",
    "- Display the selected record and its k closest neighbors in a distinctive manner on the plot (e.g., using different colors)."
   ]
  },
  {
   "cell_type": "markdown",
   "metadata": {},
   "source": [
    "We import the matplotlib submodule **pyplot**, to plot 2d graphics; following a widely used convention, we use the `plt` alias.\n",
    "\n",
    "We also need the **random** module for generating random numbers and the **math** module for computing `sqrt` and `pow`."
   ]
  },
  {
   "cell_type": "code",
   "execution_count": null,
   "metadata": {
    "collapsed": true
   },
   "outputs": [],
   "source": [
    "%matplotlib inline\n",
    "import matplotlib.pyplot as plt\n",
    "import random\n",
    "import math"
   ]
  },
  {
   "cell_type": "markdown",
   "metadata": {},
   "source": [
    "The number of random points we want."
   ]
  },
  {
   "cell_type": "code",
   "execution_count": null,
   "metadata": {
    "collapsed": true
   },
   "outputs": [],
   "source": [
    "n = 100"
   ]
  },
  {
   "cell_type": "markdown",
   "metadata": {},
   "source": [
    "The number of nearest neighbors."
   ]
  },
  {
   "cell_type": "code",
   "execution_count": null,
   "metadata": {
    "collapsed": true
   },
   "outputs": [],
   "source": [
    "k = 5"
   ]
  },
  {
   "cell_type": "markdown",
   "metadata": {},
   "source": [
    "Compute Eucledian distance between two points. The points are given by their indices in the x and y arrays.\n",
    "\n",
    "Their distance then is computed as follows:\n",
    "\n",
    "$d = \\sqrt{(x_1-x_2)^2+(y_1-y_2)^2}$\n",
    "\n",
    "where $x_1$ and $y_1$ are the coordinates of the first point (given by index `i1`) and $x_2$ and $y_2$ are the coordinates of the second point (given by index `i2`)."
   ]
  },
  {
   "cell_type": "code",
   "execution_count": null,
   "metadata": {
    "collapsed": true
   },
   "outputs": [],
   "source": [
    "def dist_eucledian(i1, i2):\n",
    "    return math.sqrt(math.pow(x[i1]-x[i2], 2) + math.pow(y[i1]-y[i2], 2))"
   ]
  },
  {
   "cell_type": "markdown",
   "metadata": {},
   "source": [
    "Generate random points with x and y coordinates and set them to the default color (blue)."
   ]
  },
  {
   "cell_type": "code",
   "execution_count": null,
   "metadata": {
    "collapsed": true
   },
   "outputs": [],
   "source": [
    "# TODO"
   ]
  },
  {
   "cell_type": "markdown",
   "metadata": {},
   "source": [
    "Pick a selected point (random point index) and set it to a different color (red)."
   ]
  },
  {
   "cell_type": "code",
   "execution_count": null,
   "metadata": {
    "collapsed": true
   },
   "outputs": [],
   "source": [
    "# TODO"
   ]
  },
  {
   "cell_type": "markdown",
   "metadata": {},
   "source": [
    "Compute the distances between the selected point and all other points.\n",
    "\n",
    "The results are stored in a dictionary where the key is the index of the point (in the `x`, `y`, and `c` lists) and the value is its distance from the selected point."
   ]
  },
  {
   "cell_type": "code",
   "execution_count": null,
   "metadata": {
    "collapsed": true
   },
   "outputs": [],
   "source": [
    "# TODO"
   ]
  },
  {
   "cell_type": "markdown",
   "metadata": {},
   "source": [
    "Find k-nearest neighbors. We sort dictionary d by value (which holds the distances) and use `[:k]` to pick the first k elements. We print the index and distance of these points and color them (to cyan)."
   ]
  },
  {
   "cell_type": "code",
   "execution_count": null,
   "metadata": {
    "collapsed": false
   },
   "outputs": [],
   "source": [
    "# TODO"
   ]
  },
  {
   "cell_type": "markdown",
   "metadata": {},
   "source": [
    "Plot data.\n",
    "  - The selected point is displayed in red.\n",
    "  - The k nearest neighbors are shown in cyan.\n",
    "  - All other points are blue."
   ]
  },
  {
   "cell_type": "code",
   "execution_count": null,
   "metadata": {
    "collapsed": false
   },
   "outputs": [],
   "source": [
    "# TODO"
   ]
  },
  {
   "cell_type": "code",
   "execution_count": null,
   "metadata": {
    "collapsed": true
   },
   "outputs": [],
   "source": []
  }
 ],
 "metadata": {
  "kernelspec": {
   "display_name": "Python 3",
   "language": "python",
   "name": "python3"
  },
  "language_info": {
   "codemirror_mode": {
    "name": "ipython",
    "version": 3
   },
   "file_extension": ".py",
   "mimetype": "text/x-python",
   "name": "python",
   "nbconvert_exporter": "python",
   "pygments_lexer": "ipython3",
   "version": "3.5.3"
  }
 },
 "nbformat": 4,
 "nbformat_minor": 0
}
